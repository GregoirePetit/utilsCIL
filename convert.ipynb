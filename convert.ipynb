{
 "cells": [
  {
   "cell_type": "code",
   "execution_count": 7,
   "metadata": {},
   "outputs": [
    {
     "name": "stdout",
     "output_type": "stream",
     "text": [
      "python /home/users/gpetit/utilsCIL/convert.py /home/users/gpetit/images_list_files/train100/imagenetsubset/ /home/data/gpetit/dataset_tmp/dytoxstyle/imagenetsubset/\n",
      "python /home/users/gpetit/utilsCIL/convert.py /home/users/gpetit/images_list_files/train100/mininat/ /home/data/gpetit/dataset_tmp/dytoxstyle/mininat/\n",
      "python /home/users/gpetit/utilsCIL/convert.py /home/users/gpetit/images_list_files/train100/imagenet100/ /home/data/gpetit/dataset_tmp/dytoxstyle/imagenet100/\n",
      "python /home/users/gpetit/utilsCIL/convert.py /home/users/gpetit/images_list_files/train100/AANetsimagenet100/ /home/data/gpetit/dataset_tmp/dytoxstyle/AANetsimagenet100/\n",
      "python /home/users/gpetit/utilsCIL/convert.py /home/users/gpetit/images_list_files/train100/cifar100surclasses/ /home/data/gpetit/dataset_tmp/dytoxstyle/cifar100surclasses/\n",
      "python /home/users/gpetit/utilsCIL/convert.py /home/users/gpetit/images_list_files/train100/food1000/ /home/data/gpetit/dataset_tmp/dytoxstyle/food1000/\n",
      "python /home/users/gpetit/utilsCIL/convert.py /home/users/gpetit/images_list_files/train100/cub200/ /home/data/gpetit/dataset_tmp/dytoxstyle/cub200/\n",
      "python /home/users/gpetit/utilsCIL/convert.py /home/users/gpetit/images_list_files/train100/additional/ /home/data/gpetit/dataset_tmp/dytoxstyle/additional/\n",
      "python /home/users/gpetit/utilsCIL/convert.py /home/users/gpetit/images_list_files/train100/imagenet10k/ /home/data/gpetit/dataset_tmp/dytoxstyle/imagenet10k/\n",
      "python /home/users/gpetit/utilsCIL/convert.py /home/users/gpetit/images_list_files/train100/flowers102/ /home/data/gpetit/dataset_tmp/dytoxstyle/flowers102/\n",
      "python /home/users/gpetit/utilsCIL/convert.py /home/users/gpetit/images_list_files/train100/inat100/ /home/data/gpetit/dataset_tmp/dytoxstyle/inat100/\n",
      "python /home/users/gpetit/utilsCIL/convert.py /home/users/gpetit/images_list_files/train100/inat/ /home/data/gpetit/dataset_tmp/dytoxstyle/inat/\n",
      "python /home/users/gpetit/utilsCIL/convert.py /home/users/gpetit/images_list_files/train100/inat10k/ /home/data/gpetit/dataset_tmp/dytoxstyle/inat10k/\n",
      "python /home/users/gpetit/utilsCIL/convert.py /home/users/gpetit/images_list_files/train100/google_landmarks/ /home/data/gpetit/dataset_tmp/dytoxstyle/google_landmarks/\n",
      "python /home/users/gpetit/utilsCIL/convert.py /home/users/gpetit/images_list_files/train100/tinyimagenet/ /home/data/gpetit/dataset_tmp/dytoxstyle/tinyimagenet/\n",
      "python /home/users/gpetit/utilsCIL/convert.py /home/users/gpetit/images_list_files/train100/imagenet200/ /home/data/gpetit/dataset_tmp/dytoxstyle/imagenet200/\n",
      "python /home/users/gpetit/utilsCIL/convert.py /home/users/gpetit/images_list_files/train100/ilsvrc/ /home/data/gpetit/dataset_tmp/dytoxstyle/ilsvrc/\n",
      "python /home/users/gpetit/utilsCIL/convert.py /home/users/gpetit/images_list_files/train100/cifar100/ /home/data/gpetit/dataset_tmp/dytoxstyle/cifar100/\n",
      "python /home/users/gpetit/utilsCIL/convert.py /home/users/gpetit/images_list_files/train100/food101/ /home/data/gpetit/dataset_tmp/dytoxstyle/food101/\n",
      "python /home/users/gpetit/utilsCIL/convert.py /home/users/gpetit/images_list_files/train100/google_landmarks10k/ /home/data/gpetit/dataset_tmp/dytoxstyle/google_landmarks10k/\n",
      "python /home/users/gpetit/utilsCIL/convert.py /home/users/gpetit/images_list_files/train100/ISIAFood/ /home/data/gpetit/dataset_tmp/dytoxstyle/ISIAFood/\n",
      "\n"
     ]
    }
   ],
   "source": [
    "# list /home/users/gpetit/images_list_files/train100/\n",
    "import os\n",
    "list_data = os.listdir('/home/users/gpetit/images_list_files/train100/')\n",
    "for dataset in list_data:\n",
    "    print('python /home/users/gpetit/utilsCIL/convert.py /home/users/gpetit/images_list_files/train100/'+dataset+'/ /home/data/gpetit/dataset_tmp/dytoxstyle/'+dataset+'/')\n",
    "print()"
   ]
  }
 ],
 "metadata": {
  "kernelspec": {
   "display_name": "py37",
   "language": "python",
   "name": "python3"
  },
  "language_info": {
   "codemirror_mode": {
    "name": "ipython",
    "version": 3
   },
   "file_extension": ".py",
   "mimetype": "text/x-python",
   "name": "python",
   "nbconvert_exporter": "python",
   "pygments_lexer": "ipython3",
   "version": "3.9.7"
  },
  "orig_nbformat": 4
 },
 "nbformat": 4,
 "nbformat_minor": 2
}
